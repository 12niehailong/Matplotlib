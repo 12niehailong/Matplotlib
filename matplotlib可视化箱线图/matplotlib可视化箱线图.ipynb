{
 "cells": [
  {
   "cell_type": "markdown",
   "metadata": {},
   "source": [
    "# 前言\n",
    "+ 针对离散变量我们可以使用常见的条形图和饼图完成数据的可视化工作，那么，针对数值型变量，我们也有很多可视化的方法，例如箱线图、直方图、折线图、面积图、散点图等等。先来数值型变量的箱线图绘制。箱线图一般用来展现数据的分布（如上下四分位值、中位数等），同时，也可以用箱线图来反映数据的异常情况。\n",
    "\n",
    "## boxplot函数的参数解读\n",
    "### 绘图之前，我们先来讲解一下matplotlib包中boxplot函数的参数含义及使用方法：\n",
    "\n",
    "plt.boxplot(x, notch=None, sym=None, vert=None, whis=None, positions=None, widths=None, patch_artist=None, meanline=None, showmeans=None, showcaps=None, showbox=None, showfliers=None, boxprops=None, labels=None, flierprops=None, medianprops=None, meanprops=None, capprops=None, whiskerprops=None)\n",
    "\n",
    "- x：指定要绘制箱线图的数据；\n",
    "\n",
    "- notch：是否是凹口的形式展现箱线图，默认非凹口；\n",
    "\n",
    "- sym：指定异常点的形状，默认为+号显示；\n",
    "\n",
    "- vert：是否需要将箱线图垂直摆放，默认垂直摆放；\n",
    "\n",
    "- whis：指定上下须与上下四分位的距离，默认为1.5倍的四分位差；\n",
    "\n",
    "- positions：指定箱线图的位置，默认为[0,1,2…]；\n",
    "\n",
    "- widths：指定箱线图的宽度，默认为0.5；\n",
    "\n",
    "- patch_artist：是否填充箱体的颜色；\n",
    "\n",
    "- meanline：是否用线的形式表示均值，默认用点来表示；\n",
    "\n",
    "- showmeans：是否显示均值，默认不显示；\n",
    "\n",
    "- showcaps：是否显示箱线图顶端和末端的两条线，默认显示；\n",
    "\n",
    "- showbox：是否显示箱线图的箱体，默认显示；\n",
    "\n",
    "- showfliers：是否显示异常值，默认显示；\n",
    "\n",
    "- boxprops：设置箱体的属性，如边框色，填充色等；\n",
    "\n",
    "- labels：为箱线图添加标签，类似于图例的作用；\n",
    "\n",
    "- filerprops：设置异常值的属性，如异常点的形状、大小、填充色等；\n",
    "\n",
    "- medianprops：设置中位数的属性，如线的类型、粗细等；\n",
    "\n",
    "- meanprops：设置均值的属性，如点的大小、颜色等；\n",
    "\n",
    "- capprops：设置箱线图顶端和末端线条的属性，如颜色、粗细等；\n",
    "\n",
    "- whiskerprops：设置须的属性，如颜色、粗细、线的类型等；"
   ]
  },
  {
   "cell_type": "markdown",
   "metadata": {},
   "source": [
    "## 生成随机数\n",
    "\n",
    "在这里我们利用 numpy 库生成三组正态分布随机数:"
   ]
  },
  {
   "cell_type": "code",
   "execution_count": 2,
   "metadata": {},
   "outputs": [
    {
     "data": {
      "image/png": "[encoded data removed]",
      "text/plain": [
       "<Figure size 432x288 with 1 Axes>"
      ]
     },
     "metadata": {},
     "output_type": "display_data"
    }
   ],
   "source": [
    "import matplotlib.pyplot as plt\n",
    "import numpy as np\n",
    "all_data=[np.random.normal(0,std,100) for std in range(1,4)]\n",
    "\n",
    "figure,axes=plt.subplots() #得到画板、轴\n",
    "axes.boxplot(all_data,patch_artist=True) #描点上色\n",
    "plt.show() #展示"
   ]
  },
  {
   "cell_type": "markdown",
   "metadata": {},
   "source": [
    "### plt.subplots 顾名思义是子图集合，当不指定 plt.subplots() 的 nrows 和 ncols 参数值时，默认只生成一张图。\n",
    "\n",
    "### Note：默认 patch_artist=False，所以我们需要指定其参数值为 True，即可自动填充颜色。"
   ]
  },
  {
   "cell_type": "markdown",
   "metadata": {},
   "source": [
    "## 多图输出\n",
    "\n",
    "+ 有时我们会有把多张图放在同一行输出的对比需求，这时只需指定 plt.subplots() 函数的 nrows，ncols 参数值，举个例子，我想生成一个 2x3 的面板，即每一行放三张图，只需设定 nrows=2，ncols=3。\n",
    "\n",
    "- 当然，你还可以通过参数 figsize 指定图形大小。"
   ]
  },
  {
   "cell_type": "code",
   "execution_count": 4,
   "metadata": {},
   "outputs": [
    {
     "data": {
      "image/png": "[encoded data removed]",
      "text/plain": [
       "<Figure size 648x288 with 2 Axes>"
      ]
     },
     "metadata": {},
     "output_type": "display_data"
    }
   ],
   "source": [
    "import matplotlib.pyplot as plt\n",
    "import numpy as np\n",
    "all_data=[np.random.normal(0,std,100) for std in range(1,4)]\n",
    "#首先有图（fig），然后有轴（ax）\n",
    "fig,axes=plt.subplots(nrows=1,ncols=2,figsize=(9,4))\n",
    "\n",
    "\n",
    "bplot1=axes[0].boxplot(all_data,\n",
    "                       vert=True,\n",
    "                       patch_artist=True)\n",
    "\n",
    "#axes[0]表示在第一张图的轴上描点画图\n",
    "#vert=True表示boxplot图是竖着放的\n",
    "#patch_artist=True 表示填充颜色\n",
    "\n",
    "bplot2 = axes[1].boxplot(all_data,\n",
    "                         notch=True,  # 切口形状\n",
    "                         vert=True, \n",
    "                         patch_artist=True)\n",
    "plt.show()\n",
    "\n",
    "# 第一张图是矩形箱线图\n",
    "# 第二张图是 notch 形状的箱线图\n",
    "# 显然，把两张图放在同一行输出非常有利于对比观察图形差异。"
   ]
  },
  {
   "cell_type": "markdown",
   "metadata": {},
   "source": [
    "## 1.1.4 美化图形\n",
    "\n",
    "基本图形画得差不多了，接下来就只需要让它美化一下！\n",
    "\n",
    "我们先来查看一下我们之前作出的箱线图对象的类型：\n",
    "\n",
    "+ type(bplot1) \n",
    "+ #dict\n",
    "\n",
    "返回字典字典类型\n",
    "\n",
    "+ 颜色填充\n",
    "颜值即正义！要选个好的配色不容易呢…\n",
    "\n",
    "填充颜色基本遵循以下步骤：\n",
    "\n",
    "+ 指定箱线图中每个箱子的填充颜色，如：red、green、blue、pink 等\n",
    "构造字典存放箱子配色 —— {箱线图中每个箱子patch：对应的配色color}\n",
    "\n",
    "+ 重新上色 —— patch.set_facecolor(color)"
   ]
  },
  {
   "cell_type": "code",
   "execution_count": 6,
   "metadata": {},
   "outputs": [
    {
     "data": {
      "image/png": "[encoded data removed]",
      "text/plain": [
       "<Figure size 648x288 with 2 Axes>"
      ]
     },
     "metadata": {},
     "output_type": "display_data"
    }
   ],
   "source": [
    "import matplotlib.pyplot as plt\n",
    "import numpy as np\n",
    "\n",
    "all_data=[np.random.normal(0,std,100) for std in range(1,4)]\n",
    "\n",
    "#首先有图（fig），然后有轴（ax）\n",
    "fig,axes=plt.subplots(nrows=1,ncols=2,figsize=(9,4))\n",
    "\n",
    "\n",
    "bplot1=axes[0].boxplot(all_data,\n",
    "                       vert=True,\n",
    "                       patch_artist=True)\n",
    "\n",
    "\n",
    "bplot2 = axes[1].boxplot(all_data,\n",
    "                         notch=True,\n",
    "                         vert=True, \n",
    "                         patch_artist=True)\n",
    "\n",
    "\n",
    "\n",
    "#颜色填充\n",
    "colors = ['pink', 'lightblue', 'lightgreen']\n",
    "for bplot in (bplot1, bplot2):\n",
    "    for patch, color in zip(bplot['boxes'], colors):\n",
    "        patch.set_facecolor(color)\n",
    "        \n",
    "plt.show()"
   ]
  },
  {
   "cell_type": "markdown",
   "metadata": {},
   "source": [
    "### 添加网格线\n",
    "#### 你可以：\n",
    "+ 指定在x轴上添加网格线（ax.xaxis.grid(True)），或者在y轴上添加网格线（ax.yaxis.grid(True)）\n",
    "+ 指定 x 轴和 y 轴上的刻度个数（ax.set_xticks([1,2,3]),ax.set_yticks([1,2,3,4,5,6,7,8])）\n",
    "+ 设置 x 轴名称（ax.set_xlabel(\"xlabel\")）\n",
    "+ 设置 y 轴名称（ax.set_xlabel(\"ylabel\")）"
   ]
  },
  {
   "cell_type": "code",
   "execution_count": 8,
   "metadata": {},
   "outputs": [
    {
     "data": {
      "image/png": "[encoded data removed]",
      "text/plain": [
       "<Figure size 648x288 with 2 Axes>"
      ]
     },
     "metadata": {},
     "output_type": "display_data"
    }
   ],
   "source": [
    "import matplotlib.pyplot as plt\n",
    "import numpy as np\n",
    "\n",
    "all_data=[np.random.normal(0,std,100) for std in range(1,4)]\n",
    "\n",
    "#首先有图（fig），然后有轴（ax）\n",
    "fig,axes=plt.subplots(nrows=1,ncols=2,figsize=(9,4))\n",
    "\n",
    "\n",
    "bplot1=axes[0].boxplot(all_data,\n",
    "                       vert=True,\n",
    "                       patch_artist=True)\n",
    "\n",
    "\n",
    "bplot2 = axes[1].boxplot(all_data,\n",
    "                         notch=True,\n",
    "                         vert=True, \n",
    "                         patch_artist=True)\n",
    "\n",
    "\n",
    "\n",
    "#颜色填充\n",
    "colors = ['pink', 'lightblue', 'lightgreen']\n",
    "for bplot in (bplot1, bplot2):\n",
    "    for patch, color in zip(bplot['boxes'], colors):\n",
    "        patch.set_facecolor(color)\n",
    "\n",
    "# 加水平网格线\n",
    "for ax in axes:\n",
    "    ax.yaxis.grid(True) #在y轴上添加网格线\n",
    "    ax.set_xticks([y+1 for y in range(len(all_data))] ) #指定x轴的轴刻度个数\n",
    "    ## [y+1 for y in range(len(all_data))]运行结果是[1,2,3]\n",
    "    ax.set_xlabel('xlabel') #设置x轴名称\n",
    "    ax.set_ylabel('ylabel') #设置y轴名称\n",
    "\n",
    "# 添加刻度\n",
    "# 添加刻度名称，我们需要使用 plt.setp() 函数：\n",
    "\n",
    "# 加刻度名称\n",
    "plt.setp(axes, xticks=[1,2,3],\n",
    "         xticklabels=['x1', 'x2', 'x3'])\n",
    "# 我们的刻度数是哪些，以及我们想要它添加的刻度标签是什么。\n",
    "        \n",
    "plt.show()"
   ]
  },
  {
   "cell_type": "code",
   "execution_count": 9,
   "metadata": {},
   "outputs": [
    {
     "data": {
      "image/png": "[encoded data removed]",
      "text/plain": [
       "<Figure size 648x432 with 1 Axes>"
      ]
     },
     "metadata": {},
     "output_type": "display_data"
    }
   ],
   "source": [
    "import matplotlib.pyplot as plt\n",
    "import numpy as np\n",
    "\n",
    "# 添加标题\n",
    "# 使用 ax.set_title 来设置单个图形主标题，用 fig.suptitle 来设置整张画板的标题：\n",
    "\n",
    "data=np.random.binomial(n=10,p=0.76,size=(10,3))\n",
    "labels=list(\"ABC\")\n",
    "fig,ax=plt.subplots(figsize=(9,6))\n",
    "ax.boxplot(data,labels=labels,patch_artist=True)\n",
    "plt.rcParams['font.sans-serif']=['SimHei'] #正确显示中文\n",
    "plt.rcParams['axes.unicode_minus']=False #用来正确显示负号\n",
    "ax.set_title(\"设置 fontsize=15 的标题\",fontsize=15) #设置字体大小为15号字体\n",
    "fig.suptitle(\"Boxplot Examples\",fontsize=24)\n",
    "plt.show()\n",
    "\n",
    "# 想必细心的朋友已经发现了我在代码里偷偷加了两行设置字体的代码，这两行代码专为防止出现中文乱码而生！\n",
    "\n",
    "# plt.rcParams['font.sans-serif']=['SimHei'] # 用来正确显示中文\n",
    "# plt.rcParams['axes.unicode_minus']=False # 用来正确显示负号"
   ]
  },
  {
   "cell_type": "code",
   "execution_count": 11,
   "metadata": {},
   "outputs": [
    {
     "data": {
      "image/png": "[encoded data removed]",
      "text/plain": [
       "<Figure size 648x360 with 2 Axes>"
      ]
     },
     "metadata": {},
     "output_type": "display_data"
    }
   ],
   "source": [
    "import matplotlib.pyplot as plt\n",
    "\n",
    "# 其他参数\n",
    "# 在图上标记出均值线\n",
    "\n",
    "fig,axes=plt.subplots(1,2,figsize=(9,5))\n",
    "axes[0].boxplot(data,labels=labels,showmeans=True,meanline=False)\n",
    "axes[0].set_title(\"默认 meanline=False\",fontsize=15)\n",
    "axes[1].boxplot(data,labels=labels,showmeans=True,meanline=True)\n",
    "axes[1].set_title(\"meanline=True\",fontsize=15)\n",
    "plt.show()\n",
    "\n",
    "# Note：\n",
    "\n",
    "# meanline=False，那么均值位置会在图中用小三角表示出来\n",
    "\n",
    "# meanline=True，那么均值位置会在图中用虚线表示出来"
   ]
  },
  {
   "cell_type": "code",
   "execution_count": 12,
   "metadata": {},
   "outputs": [
    {
     "data": {
      "image/png": "[encoded data removed]",
      "text/plain": [
       "<Figure size 648x360 with 2 Axes>"
      ]
     },
     "metadata": {},
     "output_type": "display_data"
    }
   ],
   "source": [
    "import matplotlib.pyplot as plt\n",
    "\n",
    "# 在图上去除离群值\n",
    "\n",
    "fig,axes=plt.subplots(1,2,figsize=(9,5))\n",
    "axes[0].boxplot(data,labels=labels,patch_artist=True)\n",
    "axes[0].set_title(\"默认 showfliers=True\",fontsize=15)\n",
    "axes[1].boxplot(data,labels=labels,patch_artist=True,showfliers=False)\n",
    "axes[1].set_title(\"showfliers=False\",fontsize=15)\n",
    "plt.show()\n",
    "\n",
    "# 默认 showfliers=True，那么图中会显示出离群值\n",
    "\n",
    "# showfliers=False，那么图中会去除离群值"
   ]
  }
 ],
 "metadata": {
  "kernelspec": {
   "display_name": "Python 3",
   "language": "python",
   "name": "python3"
  },
  "language_info": {
   "codemirror_mode": {
    "name": "ipython",
    "version": 3
   },
   "file_extension": ".py",
   "mimetype": "text/x-python",
   "name": "python",
   "nbconvert_exporter": "python",
   "pygments_lexer": "ipython3",
   "version": "3.6.5rc1"
  }
 },
 "nbformat": 4,
 "nbformat_minor": 2
}
